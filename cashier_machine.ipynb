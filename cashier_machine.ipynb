{
 "cells": [
  {
   "cell_type": "code",
   "execution_count": 1,
   "id": "d6441119-8bfc-4f90-b980-0cde2383adf6",
   "metadata": {},
   "outputs": [],
   "source": [
    "# I want to make a cash-machine so that it gives the correct change \n",
    "# depending on:\n",
    "\n",
    "# what is being bought\n",
    "# and how much money is being paid for"
   ]
  },
  {
   "cell_type": "code",
   "execution_count": 11,
   "id": "3e379bcd-d3ab-4117-bbbf-976ecb6c4633",
   "metadata": {},
   "outputs": [],
   "source": [
    "# First I make a dictionary of the 'things' that are being \n",
    "# sold and their value\n",
    "\n",
    "# For the moment the money value is integers £1,2,3,... AND 0.50 pp \n",
    "\n",
    "warehouse = {\n",
    "    \"keyboard\": 24.,\n",
    "    \"mouse\": 11.5,\n",
    "    \"cup\": 4.5,\n",
    "    \"notebook1\": 5.,\n",
    "    \"notebook2\": 6.5,\n",
    "    \"post-its\": 4.,\n",
    "    \"calculator\": 10.5,\n",
    "    \"speakers\": 20.,\n",
    "    \"plant1\": 13.,\n",
    "    \"plant2\": 11.,\n",
    "    \"pen\": 2.5,\n",
    "    \"lamp\": 15.,\n",
    "    \"monitor\": 37.,\n",
    "    \"clock\": 13.\n",
    "}"
   ]
  },
  {
   "cell_type": "code",
   "execution_count": 21,
   "id": "6b2b9bcb-5684-40f4-9751-c71673dd891d",
   "metadata": {},
   "outputs": [
    {
     "data": {
      "text/plain": [
       "24.0"
      ]
     },
     "execution_count": 21,
     "metadata": {},
     "output_type": "execute_result"
    }
   ],
   "source": [
    "type(warehouse[\"keyboard\"])"
   ]
  },
  {
   "cell_type": "code",
   "execution_count": 18,
   "id": "74b71fd8-b47a-4380-9334-2c7201be9880",
   "metadata": {},
   "outputs": [
    {
     "data": {
      "text/plain": [
       "dict_items([('keyboard', 24.0), ('mouse', 11.5), ('cup', 4.5), ('notebook1', 5.0), ('notebook2', 6.5), ('post-its', 4.0), ('calculator', 10.5), ('speakers', 20.0), ('plant1', 13.0), ('plant2', 11.0), ('pen', 2.5), ('lamp', 15.0), ('monitor', 37.0), ('clock', 13.0)])"
      ]
     },
     "execution_count": 18,
     "metadata": {},
     "output_type": "execute_result"
    }
   ],
   "source": [
    "warehouse.items()"
   ]
  },
  {
   "cell_type": "code",
   "execution_count": 27,
   "id": "979e549f-b39c-480a-aeed-6c439c35bfaf",
   "metadata": {},
   "outputs": [
    {
     "name": "stdin",
     "output_type": "stream",
     "text": [
      "Type what you want to buy pen\n"
     ]
    }
   ],
   "source": [
    "# Lets start buying one thing at a time \n",
    "\n",
    "tobuy = input(\"Type what you want to buy\")\n",
    "basket = warehouse[tobuy]"
   ]
  },
  {
   "cell_type": "code",
   "execution_count": 33,
   "id": "2c6aa243-d383-4a50-a674-9f54cb3bed71",
   "metadata": {},
   "outputs": [
    {
     "name": "stdout",
     "output_type": "stream",
     "text": [
      "Total will be: £ 2.5\n"
     ]
    },
    {
     "name": "stdin",
     "output_type": "stream",
     "text": [
      "You inserted: 8\n"
     ]
    },
    {
     "name": "stdout",
     "output_type": "stream",
     "text": [
      "Your change is: £ 5.5\n"
     ]
    }
   ],
   "source": [
    "# Lets give change depending on what they buy and how much they pay\n",
    "\n",
    "print(\"Total will be: £\", basket)\n",
    "\n",
    "paymt = float(input(\"You inserted:\" ))\n",
    "\n",
    "change = paymt - basket\n",
    "\n",
    "print(\"Your change is: £\", change)\n",
    "\n",
    "\n"
   ]
  }
 ],
 "metadata": {
  "kernelspec": {
   "display_name": "Python 3",
   "language": "python",
   "name": "python3"
  },
  "language_info": {
   "codemirror_mode": {
    "name": "ipython",
    "version": 3
   },
   "file_extension": ".py",
   "mimetype": "text/x-python",
   "name": "python",
   "nbconvert_exporter": "python",
   "pygments_lexer": "ipython3",
   "version": "3.7.10"
  }
 },
 "nbformat": 4,
 "nbformat_minor": 5
}
