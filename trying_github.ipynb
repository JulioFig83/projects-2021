{
 "cells": [
  {
   "cell_type": "code",
   "execution_count": 2,
   "id": "ef961675-deea-4b44-8b26-deda37aac451",
   "metadata": {},
   "outputs": [
    {
     "name": "stdout",
     "output_type": "stream",
     "text": [
      "seeing if this works on github\n"
     ]
    }
   ],
   "source": [
    "print(\"seeing if this works on github\")"
   ]
  },
  {
   "cell_type": "code",
   "execution_count": 4,
   "id": "6ece4477-2270-47ed-92b1-dde99650e95f",
   "metadata": {},
   "outputs": [
    {
     "name": "stdout",
     "output_type": "stream",
     "text": [
      "it is kinda working tho\n"
     ]
    }
   ],
   "source": [
    "print(\"it is kinda working tho\")"
   ]
  },
  {
   "cell_type": "code",
   "execution_count": 5,
   "id": "3b9f451b-9a3c-4d2b-9532-80c799d53f76",
   "metadata": {},
   "outputs": [
    {
     "name": "stdout",
     "output_type": "stream",
     "text": [
      "so i pushhed my first but asked me for \n",
      " username and \n",
      " password let me see if it doesnt \n",
      " for this one\n"
     ]
    }
   ],
   "source": [
    "print(\"so i pushhed my first but asked me for \\n username and \\n password let me see if it doesnt \\n for this one\")"
   ]
  }
 ],
 "metadata": {
  "kernelspec": {
   "display_name": "Python 3",
   "language": "python",
   "name": "python3"
  },
  "language_info": {
   "codemirror_mode": {
    "name": "ipython",
    "version": 3
   },
   "file_extension": ".py",
   "mimetype": "text/x-python",
   "name": "python",
   "nbconvert_exporter": "python",
   "pygments_lexer": "ipython3",
   "version": "3.7.10"
  }
 },
 "nbformat": 4,
 "nbformat_minor": 5
}
